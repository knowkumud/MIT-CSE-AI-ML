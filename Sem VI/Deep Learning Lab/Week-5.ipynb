{
 "cells": [
  {
   "cell_type": "markdown",
   "id": "020867cf-b9f3-40b8-beed-f27cdf618eef",
   "metadata": {},
   "source": [
    "Q1"
   ]
  },
  {
   "cell_type": "code",
   "execution_count": 38,
   "id": "acf93170-ed0c-41e4-a70c-60d4e7ba0d73",
   "metadata": {},
   "outputs": [
    {
     "name": "stdout",
     "output_type": "stream",
     "text": [
      "image= tensor([[0.7761, 0.5746, 0.4965, 0.4540, 0.2030, 0.5472],\n",
      "        [0.9234, 0.0995, 0.8705, 0.3629, 0.6596, 0.6208],\n",
      "        [0.8230, 0.6091, 0.1607, 0.3446, 0.9557, 0.9892],\n",
      "        [0.8359, 0.1438, 0.2813, 0.2297, 0.3188, 0.6237],\n",
      "        [0.3954, 0.1712, 0.2542, 0.2636, 0.6073, 0.9864],\n",
      "        [0.7626, 0.5949, 0.3403, 0.0079, 0.2547, 0.3905]])\n",
      "image.shape= torch.Size([1, 6, 6])\n",
      "image.shape= torch.Size([1, 1, 6, 6])\n",
      "image= tensor([[[[0.7761, 0.5746, 0.4965, 0.4540, 0.2030, 0.5472],\n",
      "          [0.9234, 0.0995, 0.8705, 0.3629, 0.6596, 0.6208],\n",
      "          [0.8230, 0.6091, 0.1607, 0.3446, 0.9557, 0.9892],\n",
      "          [0.8359, 0.1438, 0.2813, 0.2297, 0.3188, 0.6237],\n",
      "          [0.3954, 0.1712, 0.2542, 0.2636, 0.6073, 0.9864],\n",
      "          [0.7626, 0.5949, 0.3403, 0.0079, 0.2547, 0.3905]]]])\n",
      "kernel= tensor([[1., 1., 1.],\n",
      "        [1., 1., 1.],\n",
      "        [1., 1., 1.]])\n",
      "kernel size torch.Size([1, 1, 3, 3])\n",
      "outimage= torch.Size([1, 1, 4, 4])\n"
     ]
    }
   ],
   "source": [
    "import torch\n",
    "import torch.nn.functional as F\n",
    "image = torch.rand(6,6)\n",
    "print(\"image=\", image)\n",
    "#Add a new dimension along 0th dimension\n",
    "#i.e. (6,6) becomes (1,6,6). This is because\n",
    "#pytorch expects the input to conv2D as 4d tensor\n",
    "image = image.unsqueeze(dim=0)\n",
    "print(\"image.shape=\", image.shape)\n",
    "image = image.unsqueeze(dim=0)\n",
    "print(\"image.shape=\", image.shape)\n",
    "print(\"image=\", image)\n",
    "kernel = torch.ones(3,3)\n",
    "#kernel = torch.rand(3,3)\n",
    "print(\"kernel=\", kernel)\n",
    "kernel = kernel.unsqueeze(dim=0)\n",
    "kernel = kernel.unsqueeze(dim=0)\n",
    "print(\"kernel size\",kernel.shape)\n",
    "#Perform the convolution\n",
    "outimage = F.conv2d(image, kernel, stride=1, padding=0)\n",
    "print(\"outimage=\", outimage.shape)"
   ]
  },
  {
   "cell_type": "code",
   "execution_count": 17,
   "id": "9a02b255-5fea-4231-97b8-4bf0238000d3",
   "metadata": {},
   "outputs": [
    {
     "name": "stdout",
     "output_type": "stream",
     "text": [
      "outimage 2 size= torch.Size([1, 1, 2, 2])\n",
      "outimage 3 size= torch.Size([1, 1, 2, 2])\n",
      "outimage 4 = torch.Size([1, 1, 1, 1])\n"
     ]
    }
   ],
   "source": [
    "outimage2 = F.conv2d(image, kernel, stride=2, padding=0)\n",
    "print(\"outimage 2 size=\", outimage2.shape)\n",
    "outimage3 = F.conv2d(image, kernel, stride=3, padding=0)\n",
    "print(\"outimage 3 size=\", outimage3.shape)\n",
    "outimage4 = F.conv2d(image, kernel, stride=4, padding=0)\n",
    "print(\"outimage 4 =\", outimage4.shape)"
   ]
  },
  {
   "cell_type": "code",
   "execution_count": 18,
   "id": "1a412861-6522-4ef8-8a72-7b6a68deb160",
   "metadata": {},
   "outputs": [
    {
     "name": "stdout",
     "output_type": "stream",
     "text": [
      "outimage 2 size= torch.Size([1, 1, 6, 6])\n",
      "outimage 3 size= torch.Size([1, 1, 8, 8])\n",
      "outimage 4 size= torch.Size([1, 1, 10, 10])\n"
     ]
    }
   ],
   "source": [
    "outimage2 = F.conv2d(image, kernel, stride=1, padding=1)\n",
    "print(\"outimage 2 size=\", outimage2.shape)\n",
    "outimage3 = F.conv2d(image, kernel, stride=1, padding=2)\n",
    "print(\"outimage 3 size=\", outimage3.shape)\n",
    "outimage4 = F.conv2d(image, kernel, stride=1, padding=3)\n",
    "print(\"outimage 4 size=\", outimage4.shape)"
   ]
  },
  {
   "cell_type": "markdown",
   "id": "404f3d83-a42b-4472-af1b-232d08ebee34",
   "metadata": {},
   "source": [
    "Q2"
   ]
  },
  {
   "cell_type": "code",
   "execution_count": 37,
   "id": "7751db16-40d0-4637-9100-b5cc5bb7fd1e",
   "metadata": {},
   "outputs": [
    {
     "name": "stdout",
     "output_type": "stream",
     "text": [
      "image.shape= torch.Size([1, 1, 6, 6])\n",
      "outimage for functional conv2d= torch.Size([1, 3, 4, 4])\n",
      "outimage size for nn.conv2d= torch.Size([1, 3, 4, 4])\n"
     ]
    }
   ],
   "source": [
    "image = torch.rand(6,6)\n",
    "#Add a new dimension along 0th dimension\n",
    "#i.e. (6,6) becomes (1,6,6). This is because\n",
    "#pytorch expects the input to conv2D as 4d tensor\n",
    "image = image.unsqueeze(dim=0)\n",
    "image = image.unsqueeze(dim=0)\n",
    "print(\"image.shape=\", image.shape)\n",
    "filters = torch.randn(3, 1, 3, 3)\n",
    "out = F.conv2d(image, filters, padding=0)\n",
    "print(\"outimage for functional conv2d=\", out.shape)\n",
    "out = torch.nn.Conv2d(1, 3, kernel_size=(3, 3), stride=(1, 1))\n",
    "print(\"outimage size for nn.conv2d=\", out(image).shape)"
   ]
  },
  {
   "cell_type": "markdown",
   "id": "023e4bd0-8a10-4dfe-a54d-c8fc0fe7027a",
   "metadata": {},
   "source": [
    "Q3 & Q4"
   ]
  },
  {
   "cell_type": "code",
   "execution_count": 39,
   "id": "553a66d3-ec72-4420-b64f-3c6651c0a0b2",
   "metadata": {},
   "outputs": [],
   "source": [
    "import torch\n",
    "import matplotlib.pyplot as plt\n",
    "from torch import nn\n",
    "import torchvision\n",
    "import torchvision.transforms as transforms"
   ]
  },
  {
   "cell_type": "code",
   "execution_count": 40,
   "id": "34ff5cd0-b293-4a4b-9c79-e6572e8a08b0",
   "metadata": {},
   "outputs": [],
   "source": [
    "input_size = 784 # 28x28\n",
    "hidden_size = 500 \n",
    "num_classes = 10\n",
    "num_epochs = 2\n",
    "batch_size = 100\n",
    "learning_rate = 0.001"
   ]
  },
  {
   "cell_type": "code",
   "execution_count": 41,
   "id": "6b628a0e-c7d0-441a-a115-c81cc5e39c1b",
   "metadata": {},
   "outputs": [],
   "source": [
    "device = torch.device('cuda' if torch.cuda.is_available() else 'cpu')"
   ]
  },
  {
   "cell_type": "code",
   "execution_count": 42,
   "id": "2f775ab7-aa19-4332-bd7a-cd11aa2a8771",
   "metadata": {},
   "outputs": [],
   "source": [
    "class CNN(nn.Module):\n",
    "    def __init__(self):\n",
    "        super().__init__()\n",
    "        self.net = nn.Sequential(\n",
    "        nn.Conv2d(1,64,kernel_size=3, padding = 1),\n",
    "        nn.MaxPool2d((2,2), stride = 2),\n",
    "        nn.Conv2d(64,128,kernel_size=3, padding = 1),\n",
    "        nn.MaxPool2d((2,2), stride = 2),\n",
    "        nn.Conv2d(128,64,kernel_size=3, padding = 1),\n",
    "        nn.MaxPool2d((2,2), stride = 2),\n",
    "        nn.ReLU(),\n",
    "        nn.MaxPool2d((2,2), stride = 2))\n",
    "        self.nn = nn.Sequential(nn.Linear(64,20,bias = True),\n",
    "                               nn.ReLU(),\n",
    "                               nn.Linear(20,10,bias = True))\n",
    "    def forward(self, x):\n",
    "        output = self.net(x)\n",
    "        return self.nn(output.view(100,-1))"
   ]
  },
  {
   "cell_type": "code",
   "execution_count": 43,
   "id": "020de17b-c9bf-4d05-af90-7daf6bdddc89",
   "metadata": {},
   "outputs": [],
   "source": [
    "# Import MNIST dataset \n",
    "train_dataset = torchvision.datasets.MNIST(root='./data', \n",
    "                                           train=True, \n",
    "                                           transform=transforms.ToTensor(),  \n",
    "                                           download=True)\n",
    "\n",
    "test_dataset = torchvision.datasets.MNIST(root='./data', \n",
    "                                          train=False, \n",
    "                                          transform=transforms.ToTensor())"
   ]
  },
  {
   "cell_type": "code",
   "execution_count": 44,
   "id": "b5a4d190-ceb7-4811-9f1c-1a53cccc95b7",
   "metadata": {},
   "outputs": [],
   "source": [
    "# Data loader\n",
    "train_loader = torch.utils.data.DataLoader(dataset=train_dataset, \n",
    "                                           batch_size=batch_size, \n",
    "                                           shuffle=True)\n",
    "\n",
    "test_loader = torch.utils.data.DataLoader(dataset=test_dataset, \n",
    "                                          batch_size=batch_size, \n",
    "                                          shuffle=False)\n"
   ]
  },
  {
   "cell_type": "code",
   "execution_count": 45,
   "id": "6480160f-d677-40cf-a278-df3cfb50edff",
   "metadata": {},
   "outputs": [],
   "source": [
    "model = CNN().to(device)"
   ]
  },
  {
   "cell_type": "code",
   "execution_count": 46,
   "id": "2906a40d-badd-4562-ba26-85919403e751",
   "metadata": {},
   "outputs": [],
   "source": [
    "# Loss and optimizer\n",
    "criterion = nn.CrossEntropyLoss()\n",
    "optimizer = torch.optim.Adam(model.parameters(), lr=learning_rate)"
   ]
  },
  {
   "cell_type": "code",
   "execution_count": 47,
   "id": "4a131ded-a676-41f5-aff7-32583914f63b",
   "metadata": {},
   "outputs": [],
   "source": [
    "# Train the model\n",
    "def trainModel(model, num_epochs,train_loader,optimizer):\n",
    "    n_total_steps = len(train_loader)\n",
    "    for epoch in range(num_epochs):\n",
    "        for i, (images, labels) in enumerate(train_loader):  \n",
    "            # origin shape: [100, 1, 28, 28]\n",
    "            # resized: [100, 784]\n",
    "            # images = images.reshape(-1, 28*28).to(device)\n",
    "            images = images.to(device)\n",
    "            labels = labels.to(device)\n",
    "    \n",
    "            # Forward pass\n",
    "            outputs = model(images)\n",
    "            loss = criterion(outputs, labels)\n",
    "    \n",
    "            # Backward and optimize\n",
    "            optimizer.zero_grad()\n",
    "            loss.backward()\n",
    "            optimizer.step()\n",
    "    \n",
    "            if (i+1) % 100 == 0:\n",
    "                print (f'Epoch [{epoch+1}/{num_epochs}], Step [{i+1}/{n_total_steps}], Loss: {loss.item():.4f}')"
   ]
  },
  {
   "cell_type": "code",
   "execution_count": 48,
   "id": "b6e59e0a-5682-4436-8fe6-7983e5dc119d",
   "metadata": {},
   "outputs": [
    {
     "name": "stderr",
     "output_type": "stream",
     "text": [
      "/opt/anaconda3/envs/pytorch_env/lib/python3.11/site-packages/torch/nn/modules/conv.py:456: UserWarning: Applied workaround for CuDNN issue, install nvrtc.so (Triggered internally at /opt/conda/conda-bld/pytorch_1702400440653/work/aten/src/ATen/native/cudnn/Conv_v8.cpp:80.)\n",
      "  return F.conv2d(input, weight, bias, self.stride,\n"
     ]
    },
    {
     "name": "stdout",
     "output_type": "stream",
     "text": [
      "Epoch [1/1], Step [100/600], Loss: 0.2862\n",
      "Epoch [1/1], Step [200/600], Loss: 0.3403\n",
      "Epoch [1/1], Step [300/600], Loss: 0.2120\n",
      "Epoch [1/1], Step [400/600], Loss: 0.0827\n",
      "Epoch [1/1], Step [500/600], Loss: 0.1701\n",
      "Epoch [1/1], Step [600/600], Loss: 0.2042\n"
     ]
    }
   ],
   "source": [
    "trainModel(model,1, train_loader, optimizer)"
   ]
  },
  {
   "cell_type": "code",
   "execution_count": 50,
   "id": "371afa6d-555d-4212-883a-e67e1037a0f0",
   "metadata": {},
   "outputs": [],
   "source": [
    "class CNN2(nn.Module):\n",
    "    def __init__(self):\n",
    "        super().__init__()\n",
    "        self.net = nn.Sequential(\n",
    "        nn.Conv2d(1,32,kernel_size=3, padding = 1),\n",
    "        nn.MaxPool2d((2,2), stride = 2),\n",
    "        nn.Conv2d(32,64,kernel_size=3, padding = 1),\n",
    "        nn.MaxPool2d((2,2), stride = 2),\n",
    "        nn.Conv2d(64,32,kernel_size=3, padding = 1),\n",
    "        nn.MaxPool2d((2,2), stride = 2),\n",
    "        nn.ReLU(),\n",
    "        nn.MaxPool2d((2,2), stride = 2))\n",
    "        self.nn = nn.Sequential(nn.Linear(32,20,bias = True),\n",
    "                               nn.ReLU(),\n",
    "                               nn.Linear(20,10,bias = True))\n",
    "    def forward(self, x):\n",
    "        output = self.net(x)\n",
    "        return self.nn(output.view(100,-1))\n",
    "class CNN3(nn.Module):\n",
    "    def __init__(self):\n",
    "        super().__init__()\n",
    "        self.net = nn.Sequential(\n",
    "        nn.Conv2d(1,16,kernel_size=3, padding = 1),\n",
    "        nn.MaxPool2d((2,2), stride = 2),\n",
    "        nn.Conv2d(16,32,kernel_size=3, padding = 1),\n",
    "        nn.MaxPool2d((2,2), stride = 2),\n",
    "        nn.Conv2d(32,16,kernel_size=3, padding = 1),\n",
    "        nn.MaxPool2d((2,2), stride = 2),\n",
    "        nn.ReLU(),\n",
    "        nn.MaxPool2d((2,2), stride = 2))\n",
    "        self.nn = nn.Sequential(nn.Linear(16,20,bias = True),\n",
    "                               nn.ReLU(),\n",
    "                               nn.Linear(20,10,bias = True))\n",
    "    def forward(self, x):\n",
    "        output = self.net(x)\n",
    "        return self.nn(output.view(100,-1))\n",
    "class CNN4(nn.Module):\n",
    "    def __init__(self):\n",
    "        super().__init__()\n",
    "        self.net = nn.Sequential(\n",
    "        nn.Conv2d(1,64,kernel_size=3, padding = 2),\n",
    "        nn.MaxPool2d((2,2), stride = 2),\n",
    "        nn.Conv2d(64,128,kernel_size=3, padding = 2),\n",
    "        nn.MaxPool2d((2,2), stride = 2),\n",
    "        nn.Conv2d(128,256,kernel_size=3, padding = 2),\n",
    "        nn.MaxPool2d((2,2), stride = 2),\n",
    "        nn.Conv2d(256,128,kernel_size=3, padding = 2),\n",
    "        nn.MaxPool2d((2,2), stride = 2),\n",
    "        nn.Conv2d(128,64,kernel_size=3, padding = 2),\n",
    "        nn.MaxPool2d((2,2), stride = 2),\n",
    "        nn.ReLU(),\n",
    "        nn.MaxPool2d((2,2), stride = 2))\n",
    "        self.nn = nn.Sequential(nn.Linear(64,20,bias = True),\n",
    "                               nn.ReLU(),\n",
    "                               nn.Linear(20,10,bias = True))\n",
    "    def forward(self, x):\n",
    "        output = self.net(x)\n",
    "        return self.nn(output.view(100,-1))"
   ]
  },
  {
   "cell_type": "code",
   "execution_count": 51,
   "id": "ce73f60c-877e-47b0-bdff-0e9bca9b1402",
   "metadata": {},
   "outputs": [],
   "source": [
    "# Test the model\n",
    "# In test phase, we don't need to compute gradients (for memory efficiency)\n",
    "import sklearn\n",
    "from sklearn.metrics import confusion_matrix, ConfusionMatrixDisplay as cdm\n",
    "def test(model, test_loader):\n",
    "    with torch.no_grad():\n",
    "        total = 0\n",
    "        correct = 0\n",
    "        for images, labels in test_loader:\n",
    "            images = images.to(device)\n",
    "            labels = labels.to(device)\n",
    "            outputs = model(images)\n",
    "            _, predicted = torch.max(outputs.data, 1)\n",
    "            total += labels.size(0)\n",
    "            correct += (predicted == labels).sum().item()  \n",
    "    return correct/total"
   ]
  },
  {
   "cell_type": "code",
   "execution_count": 53,
   "id": "c06ae352-882a-4e51-a3c5-f29e1e7e0c09",
   "metadata": {},
   "outputs": [
    {
     "name": "stdout",
     "output_type": "stream",
     "text": [
      "Epoch [1/2], Step [100/600], Loss: 0.3630\n",
      "Epoch [1/2], Step [200/600], Loss: 0.2628\n",
      "Epoch [1/2], Step [300/600], Loss: 0.2032\n",
      "Epoch [1/2], Step [400/600], Loss: 0.2468\n",
      "Epoch [1/2], Step [500/600], Loss: 0.1985\n",
      "Epoch [1/2], Step [600/600], Loss: 0.2008\n",
      "Epoch [2/2], Step [100/600], Loss: 0.1065\n",
      "Epoch [2/2], Step [200/600], Loss: 0.1316\n",
      "Epoch [2/2], Step [300/600], Loss: 0.1374\n",
      "Epoch [2/2], Step [400/600], Loss: 0.0786\n",
      "Epoch [2/2], Step [500/600], Loss: 0.1232\n",
      "Epoch [2/2], Step [600/600], Loss: 0.0668\n",
      "Epoch [1/2], Step [100/600], Loss: 1.0370\n",
      "Epoch [1/2], Step [200/600], Loss: 0.5967\n",
      "Epoch [1/2], Step [300/600], Loss: 0.4454\n",
      "Epoch [1/2], Step [400/600], Loss: 0.3708\n",
      "Epoch [1/2], Step [500/600], Loss: 0.2206\n",
      "Epoch [1/2], Step [600/600], Loss: 0.2015\n",
      "Epoch [2/2], Step [100/600], Loss: 0.2083\n",
      "Epoch [2/2], Step [200/600], Loss: 0.2132\n",
      "Epoch [2/2], Step [300/600], Loss: 0.2109\n",
      "Epoch [2/2], Step [400/600], Loss: 0.1633\n",
      "Epoch [2/2], Step [500/600], Loss: 0.3045\n",
      "Epoch [2/2], Step [600/600], Loss: 0.1585\n",
      "Epoch [1/2], Step [100/600], Loss: 0.2992\n",
      "Epoch [1/2], Step [200/600], Loss: 0.0267\n",
      "Epoch [1/2], Step [300/600], Loss: 0.0492\n",
      "Epoch [1/2], Step [400/600], Loss: 0.0440\n",
      "Epoch [1/2], Step [500/600], Loss: 0.0485\n",
      "Epoch [1/2], Step [600/600], Loss: 0.0760\n",
      "Epoch [2/2], Step [100/600], Loss: 0.0152\n",
      "Epoch [2/2], Step [200/600], Loss: 0.0315\n",
      "Epoch [2/2], Step [300/600], Loss: 0.0536\n",
      "Epoch [2/2], Step [400/600], Loss: 0.0327\n",
      "Epoch [2/2], Step [500/600], Loss: 0.0727\n",
      "Epoch [2/2], Step [600/600], Loss: 0.0369\n"
     ]
    }
   ],
   "source": [
    "m1 = CNN().to(device)\n",
    "m2 = CNN2().to(device)\n",
    "m3 = CNN3().to(device)\n",
    "m4 = CNN4().to(device)\n",
    "\n",
    "o1 = torch.optim.Adam(m1.parameters(), lr=learning_rate)\n",
    "o2 = torch.optim.Adam(m2.parameters(), lr=learning_rate)\n",
    "o3 = torch.optim.Adam(m3.parameters(), lr=learning_rate)\n",
    "o4 = torch.optim.Adam(m4.parameters(), lr=learning_rate)\n",
    "#trainModel(m1,2, train_loader, o1)\n",
    "trainModel(m2,2, train_loader, o2)\n",
    "trainModel(m3,2, train_loader, o3)\n",
    "trainModel(m4,2, train_loader, o4)"
   ]
  },
  {
   "cell_type": "code",
   "execution_count": 54,
   "id": "0d7364b0-97de-40bd-8663-7aeed0a182fb",
   "metadata": {},
   "outputs": [],
   "source": [
    "m2a = test(m2,test_loader)\n",
    "m3a = test(m3,test_loader)\n",
    "m4a = test(m4,test_loader)\n",
    "m1a = test(model,test_loader)\n",
    "def count_parameters(model):\n",
    "    return sum(p.numel() for p in model.parameters() if p.requires_grad)\n",
    "m2p = count_parameters(m2)\n",
    "m3p = count_parameters(m3)\n",
    "m4p = count_parameters(m4)\n",
    "m1p = count_parameters(model)\n",
    "import numpy as np\n",
    "x = [m1p,m1p-m2p,m1p-m3p,m4p-m1p]"
   ]
  },
  {
   "cell_type": "code",
   "execution_count": 55,
   "id": "df0bf492-37b8-40b3-85a5-143e3ce01762",
   "metadata": {},
   "outputs": [
    {
     "data": {
      "text/plain": [
       "array([100.        ,  74.53237026,  93.34170016, 394.00259015])"
      ]
     },
     "execution_count": 55,
     "metadata": {},
     "output_type": "execute_result"
    }
   ],
   "source": [
    "x = np.array(x)\n",
    "x / m1p * 100"
   ]
  },
  {
   "cell_type": "code",
   "execution_count": 56,
   "id": "1ef949fb-71fc-4c37-bb12-620ba181fe2a",
   "metadata": {},
   "outputs": [
    {
     "data": {
      "text/plain": [
       "<matplotlib.collections.PathCollection at 0x7f6b27169510>"
      ]
     },
     "execution_count": 56,
     "metadata": {},
     "output_type": "execute_result"
    },
    {
     "data": {
      "image/png": "[encoded data removed]",
      "text/plain": [
       "<Figure size 640x480 with 1 Axes>"
      ]
     },
     "metadata": {},
     "output_type": "display_data"
    }
   ],
   "source": [
    "y = np.array([m1a, m2a, m3a, m4a])\n",
    "plt.scatter(x,y)"
   ]
  },
  {
   "cell_type": "code",
   "execution_count": 57,
   "id": "d40a8395-ff66-4f96-943b-b3f93185ac84",
   "metadata": {},
   "outputs": [
    {
     "data": {
      "text/plain": [
       "array([149798, 111648, 139824, 590208])"
      ]
     },
     "execution_count": 57,
     "metadata": {},
     "output_type": "execute_result"
    }
   ],
   "source": [
    "x"
   ]
  },
  {
   "cell_type": "code",
   "execution_count": 58,
   "id": "fc063483-68ed-487a-b065-b6ae84b3c1be",
   "metadata": {},
   "outputs": [
    {
     "data": {
      "text/plain": [
       "array([0.963 , 0.9725, 0.9538, 0.9856])"
      ]
     },
     "execution_count": 58,
     "metadata": {},
     "output_type": "execute_result"
    }
   ],
   "source": [
    "y"
   ]
  },
  {
   "cell_type": "code",
   "execution_count": null,
   "id": "ba293697-a532-49ea-97b9-4f8515bb8013",
   "metadata": {},
   "outputs": [],
   "source": []
  }
 ],
 "metadata": {
  "kernelspec": {
   "display_name": "Python 3 (ipykernel)",
   "language": "python",
   "name": "python3"
  },
  "language_info": {
   "codemirror_mode": {
    "name": "ipython",
    "version": 3
   },
   "file_extension": ".py",
   "mimetype": "text/x-python",
   "name": "python",
   "nbconvert_exporter": "python",
   "pygments_lexer": "ipython3",
   "version": "3.11.7"
  }
 },
 "nbformat": 4,
 "nbformat_minor": 5
}
